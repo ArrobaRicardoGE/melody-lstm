{
 "cells": [
  {
   "cell_type": "code",
   "execution_count": 3,
   "id": "8b1bf491",
   "metadata": {},
   "outputs": [],
   "source": [
    "import pretty_midi\n",
    "import torch\n",
    "import os\n",
    "import pickle\n",
    "import numpy as np\n",
    "from MelodyLSTM import MelodyLSTM\n",
    "import settings as st"
   ]
  },
  {
   "cell_type": "code",
   "execution_count": 4,
   "id": "4bfcaf8c",
   "metadata": {},
   "outputs": [
    {
     "name": "stdout",
     "output_type": "stream",
     "text": [
      "Device cuda\n"
     ]
    },
    {
     "data": {
      "text/plain": [
       "MelodyLSTM(\n",
       "  (lstm): LSTM(111, 512, batch_first=True)\n",
       "  (fc_1): Linear(in_features=512, out_features=256, bias=True)\n",
       "  (fc): Linear(in_features=256, out_features=60, bias=True)\n",
       "  (relu): ReLU()\n",
       ")"
      ]
     },
     "execution_count": 4,
     "metadata": {},
     "output_type": "execute_result"
    }
   ],
   "source": [
    "device = torch.device(\"cuda\") if torch.cuda.is_available() else torch.device(\"cpu\")\n",
    "print(\"Device\", device)\n",
    "mlstm = MelodyLSTM(st.input_size, st.hidden_size, st.output_size, st.num_layers, device)\n",
    "mlstm.load_state_dict(torch.load('../models/muse_w10_v1.pth')) \n",
    "mlstm.eval()\n",
    "mlstm.to(device)"
   ]
  },
  {
   "cell_type": "code",
   "execution_count": 5,
   "id": "dfedfaa3",
   "metadata": {},
   "outputs": [],
   "source": [
    "with open('../data/chords/CHORD_DICT.pickle', 'rb') as f: \n",
    "    CHORD_DICT = pickle.load(f)"
   ]
  },
  {
   "cell_type": "code",
   "execution_count": 6,
   "id": "6bc29bb3",
   "metadata": {},
   "outputs": [],
   "source": [
    "with open('../data/chords_reduced/CHORD_TO_EMB.pickle', 'rb') as f:\n",
    "    CHORD_TO_EMB = pickle.load(f)"
   ]
  },
  {
   "cell_type": "code",
   "execution_count": 7,
   "id": "5ec1f5f1",
   "metadata": {},
   "outputs": [],
   "source": [
    "EMB_TO_CHORD = {v: k for k, v in CHORD_TO_EMB.items()}"
   ]
  },
  {
   "cell_type": "code",
   "execution_count": 30,
   "id": "e211dd98",
   "metadata": {},
   "outputs": [],
   "source": [
    "def select_note(p):\n",
    "    dist = torch.nn.functional.softmax(p, dim=1).detach().cpu().numpy()\n",
    "    dist = np.reshape(dist, (-1))\n",
    "    return np.random.choice(range(len(dist)), p=dist)"
   ]
  },
  {
   "cell_type": "code",
   "execution_count": 31,
   "id": "29f8010d",
   "metadata": {},
   "outputs": [],
   "source": [
    "def generate_melody_compass(chord, prev=None, ts=8):\n",
    "    notes = []\n",
    "    if prev == None:\n",
    "        prev = torch.zeros(111)\n",
    "        prev[(st.ub-st.lb) + chord] = 1.\n",
    "        prev = torch.reshape(prev, (1, 1, -1))\n",
    "    \n",
    "    for _ in range(ts):\n",
    "        prev = prev.to(device)\n",
    "        p = mlstm(prev)\n",
    "        # print(torch.nn.functional.softmax(p, dim=1).detach().numpy())\n",
    "        # print(np.sum(torch.nn.functional.softmax(p, dim=1).detach().cpu().numpy()))\n",
    "        notes.append(select_note(p))\n",
    "        # notes.append(np.argmax(torch.nn.functional.softmax(p, dim=1).detach().cpu().numpy()))\n",
    "        \n",
    "        last = torch.clone(prev[:,-1,:])\n",
    "        last = torch.reshape(last, (1, 1, -1))\n",
    "        last[:,:,notes[-1]] = 1\n",
    "        prev = torch.cat((prev, last), dim=1)\n",
    "        if prev.size(1) == 10:\n",
    "            prev = prev[:, 1:, :]\n",
    "        print(prev.size())\n",
    "\n",
    "    return notes, prev"
   ]
  },
  {
   "cell_type": "code",
   "execution_count": 32,
   "id": "5cfec2d8",
   "metadata": {},
   "outputs": [],
   "source": [
    "def generate_melody_for_chords(chords):\n",
    "    notes = []\n",
    "    prev = None\n",
    "    for chord in chords: \n",
    "        notes_i, prev = generate_melody_compass(chord, prev)\n",
    "        notes += notes_i\n",
    "    return notes"
   ]
  },
  {
   "cell_type": "code",
   "execution_count": 33,
   "id": "052a901c",
   "metadata": {},
   "outputs": [
    {
     "name": "stdout",
     "output_type": "stream",
     "text": [
      "torch.Size([1, 2, 111])\n",
      "torch.Size([1, 3, 111])\n",
      "torch.Size([1, 4, 111])\n",
      "torch.Size([1, 5, 111])\n",
      "torch.Size([1, 6, 111])\n",
      "torch.Size([1, 7, 111])\n",
      "torch.Size([1, 8, 111])\n",
      "torch.Size([1, 9, 111])\n",
      "torch.Size([1, 9, 111])\n",
      "torch.Size([1, 9, 111])\n",
      "torch.Size([1, 9, 111])\n",
      "torch.Size([1, 9, 111])\n",
      "torch.Size([1, 9, 111])\n",
      "torch.Size([1, 9, 111])\n",
      "torch.Size([1, 9, 111])\n",
      "torch.Size([1, 9, 111])\n",
      "torch.Size([1, 9, 111])\n",
      "torch.Size([1, 9, 111])\n",
      "torch.Size([1, 9, 111])\n",
      "torch.Size([1, 9, 111])\n",
      "torch.Size([1, 9, 111])\n",
      "torch.Size([1, 9, 111])\n",
      "torch.Size([1, 9, 111])\n",
      "torch.Size([1, 9, 111])\n",
      "torch.Size([1, 9, 111])\n",
      "torch.Size([1, 9, 111])\n",
      "torch.Size([1, 9, 111])\n",
      "torch.Size([1, 9, 111])\n",
      "torch.Size([1, 9, 111])\n",
      "torch.Size([1, 9, 111])\n",
      "torch.Size([1, 9, 111])\n",
      "torch.Size([1, 9, 111])\n"
     ]
    }
   ],
   "source": [
    "notes = generate_melody_for_chords([0, 1, 2, 3])"
   ]
  },
  {
   "cell_type": "code",
   "execution_count": 34,
   "id": "194d7d7e",
   "metadata": {},
   "outputs": [
    {
     "data": {
      "text/plain": [
       "[48,\n",
       " 24,\n",
       " 28,\n",
       " 8,\n",
       " 17,\n",
       " 14,\n",
       " 9,\n",
       " 57,\n",
       " 41,\n",
       " 31,\n",
       " 12,\n",
       " 26,\n",
       " 16,\n",
       " 26,\n",
       " 59,\n",
       " 36,\n",
       " 48,\n",
       " 32,\n",
       " 7,\n",
       " 35,\n",
       " 12,\n",
       " 9,\n",
       " 37,\n",
       " 31,\n",
       " 6,\n",
       " 12,\n",
       " 9,\n",
       " 25,\n",
       " 56,\n",
       " 6,\n",
       " 40,\n",
       " 45]"
      ]
     },
     "execution_count": 34,
     "metadata": {},
     "output_type": "execute_result"
    }
   ],
   "source": [
    "notes"
   ]
  },
  {
   "cell_type": "code",
   "execution_count": 35,
   "id": "701d7f74",
   "metadata": {},
   "outputs": [],
   "source": [
    "def write_melody_to_piano_roll(notes, piano_roll):\n",
    "    for i, note in enumerate(notes):\n",
    "        piano_roll[note + st.lb, i] = 100\n",
    "    \n",
    "    return piano_roll"
   ]
  },
  {
   "cell_type": "code",
   "execution_count": 36,
   "id": "ba6e221a",
   "metadata": {},
   "outputs": [],
   "source": [
    "def write_chords_to_piano_roll(chords, piano_roll, root=24, ts=8):\n",
    "    for i, emb in enumerate(chords):\n",
    "        cid = EMB_TO_CHORD[emb]\n",
    "        chord = CHORD_DICT[cid]\n",
    "        t1 = chord % 100\n",
    "        chord //= 100\n",
    "        t2 = chord % 100\n",
    "        chord //= 100\n",
    "        t3 = chord % 100 \n",
    "        piano_roll[root + t1, i * 8: i * 8 + 8] = 100\n",
    "        piano_roll[root + t2, i * 8: i * 8 + 8] = 100\n",
    "        piano_roll[root + t3, i * 8: i * 8 + 8] = 100\n",
    "    return piano_roll"
   ]
  },
  {
   "cell_type": "code",
   "execution_count": 37,
   "id": "c1d5e210",
   "metadata": {},
   "outputs": [],
   "source": [
    "piano_roll_chords = np.zeros((128, 32))\n",
    "piano_roll_notes = np.zeros((128, 32))"
   ]
  },
  {
   "cell_type": "code",
   "execution_count": 38,
   "id": "2b16b495",
   "metadata": {},
   "outputs": [],
   "source": [
    "piano_roll_notes = write_melody_to_piano_roll(notes, piano_roll_notes)\n",
    "piano_roll_chords = write_chords_to_piano_roll([1,2,3,4], piano_roll_chords, root=36)"
   ]
  },
  {
   "cell_type": "code",
   "execution_count": 39,
   "id": "44e32cf2",
   "metadata": {},
   "outputs": [],
   "source": [
    "def write_piano_roll_to_midi(piano_roll, midi, pid):\n",
    "    instrument = pretty_midi.Instrument(program=pid)\n",
    "    \n",
    "    # add notes to the instrument object\n",
    "    for note_idx, time_slice in enumerate(piano_roll.T):\n",
    "        note_numbers = np.nonzero(time_slice)[0]\n",
    "        for note_number in note_numbers:\n",
    "            note_start = note_idx / 4.0\n",
    "            note_end = (note_idx + 1) / 4.0\n",
    "            note_velocity = int(time_slice[note_number])\n",
    "            note = pretty_midi.Note(\n",
    "                velocity=note_velocity,\n",
    "                pitch=note_number,\n",
    "                start=note_start,\n",
    "                end=note_end\n",
    "            )\n",
    "            instrument.notes.append(note)\n",
    "\n",
    "    # add the instrument object to the MIDI object\n",
    "    midi.instruments.append(instrument)\n",
    "    \n",
    "    return midi"
   ]
  },
  {
   "cell_type": "code",
   "execution_count": 40,
   "id": "37a3d7e8",
   "metadata": {},
   "outputs": [],
   "source": [
    "def save_piano_roll_to_midi(piano_roll_notes, piano_roll_chords, filename):\n",
    "    # create a PrettyMIDI object\n",
    "    midi = pretty_midi.PrettyMIDI()\n",
    "    midi = write_piano_roll_to_midi(piano_roll_chords, midi, 0)\n",
    "    midi = write_piano_roll_to_midi(piano_roll_notes, midi, 1)\n",
    "    \n",
    "    # write the MIDI object to a file\n",
    "    midi.write(filename)"
   ]
  },
  {
   "cell_type": "code",
   "execution_count": 41,
   "id": "0ba8f491",
   "metadata": {},
   "outputs": [],
   "source": [
    "save_piano_roll_to_midi(piano_roll_notes, piano_roll_chords, 'test_sep_rand.mid')"
   ]
  },
  {
   "cell_type": "code",
   "execution_count": null,
   "id": "6d18cb8a",
   "metadata": {},
   "outputs": [],
   "source": []
  }
 ],
 "metadata": {
  "kernelspec": {
   "display_name": "Python 3 (ipykernel)",
   "language": "python",
   "name": "python3"
  },
  "language_info": {
   "codemirror_mode": {
    "name": "ipython",
    "version": 3
   },
   "file_extension": ".py",
   "mimetype": "text/x-python",
   "name": "python",
   "nbconvert_exporter": "python",
   "pygments_lexer": "ipython3",
   "version": "3.9.16"
  }
 },
 "nbformat": 4,
 "nbformat_minor": 5
}
