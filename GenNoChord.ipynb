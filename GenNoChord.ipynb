{
 "cells": [
  {
   "cell_type": "code",
   "execution_count": 1,
   "id": "3003d6d2",
   "metadata": {},
   "outputs": [],
   "source": [
    "from MelodyLSTMEmbV2 import MelodyLSTMEmb\n",
    "import torch\n",
    "import pickle\n",
    "import numpy as np\n",
    "import pretty_midi"
   ]
  },
  {
   "cell_type": "code",
   "execution_count": 2,
   "id": "41b0a31f",
   "metadata": {},
   "outputs": [],
   "source": [
    "num_epochs = 100\n",
    "learning_rate = 1e-6\n",
    "\n",
    "input_size = 56 #number of features\n",
    "hidden_size = 512 #number of features in hidden state\n",
    "num_layers = 1 #number of stacked lstm layers\n",
    "\n",
    "output_size = 36 #number of output classes "
   ]
  },
  {
   "cell_type": "code",
   "execution_count": 3,
   "id": "11e55a06",
   "metadata": {},
   "outputs": [
    {
     "name": "stdout",
     "output_type": "stream",
     "text": [
      "Device cuda\n"
     ]
    },
    {
     "data": {
      "text/plain": [
       "MelodyLSTMEmb(\n",
       "  (embedding): Embedding(51, 10)\n",
       "  (lstm): LSTM(56, 512, batch_first=True)\n",
       "  (fc_1): Linear(in_features=512, out_features=256, bias=True)\n",
       "  (fc): Linear(in_features=256, out_features=36, bias=True)\n",
       "  (relu): ReLU()\n",
       "  (sigmoid): Sigmoid()\n",
       ")"
      ]
     },
     "execution_count": 3,
     "metadata": {},
     "output_type": "execute_result"
    }
   ],
   "source": [
    "device = torch.device(\"cuda\") if torch.cuda.is_available() else torch.device(\"cpu\")\n",
    "print(\"Device\", device)\n",
    "mlstm = MelodyLSTMEmb(input_size, hidden_size, output_size, num_layers, device)\n",
    "mlstm.load_state_dict(torch.load('../models/muse2_t10000_bce_w20/checkpoint-20.pth')) \n",
    "mlstm.eval()\n",
    "mlstm.to(device)"
   ]
  },
  {
   "cell_type": "code",
   "execution_count": 4,
   "id": "a2dd612d",
   "metadata": {},
   "outputs": [],
   "source": [
    "triad_dict = {\n",
    "    'C': (0, 4, 7),\n",
    "    'C#': (1, 5, 8),\n",
    "    'D': (2, 6, 9),\n",
    "    'D#': (3, 7, 10), \n",
    "    'E': (4, 8, 11),\n",
    "    'F': (0, 5, 9),\n",
    "    'F#': (1, 6, 10),\n",
    "    'G': (2, 7, 11),\n",
    "    'G#': (0, 3, 8),\n",
    "    'A': (1, 4, 9),\n",
    "    'A#': (2, 5, 10),\n",
    "    'B': (3, 6, 11), \n",
    "    'Cm': (0, 3, 7),\n",
    "    'C#m': (1, 4, 8),\n",
    "    'Dm': (2, 5, 9),\n",
    "    'D#m': (3, 6, 10),\n",
    "    'Em': (4, 7, 11),\n",
    "    'Fm': (0, 5, 8),\n",
    "    'F#m': (1, 6, 9),\n",
    "    'Gm': (2, 7, 10),\n",
    "    'G#m': (3, 8, 11),\n",
    "    'Am': (0, 4, 9),\n",
    "    'A#m': (1, 5, 10),\n",
    "    'Bm': (2, 6, 11)\n",
    "}"
   ]
  },
  {
   "cell_type": "code",
   "execution_count": 5,
   "id": "ab44a0e7",
   "metadata": {},
   "outputs": [],
   "source": [
    "with open('../data/chords_reduced/CHORD_TO_EMB.pickle', 'rb') as f:\n",
    "    CHORD_TO_EMB = pickle.load(f)"
   ]
  },
  {
   "cell_type": "code",
   "execution_count": 6,
   "id": "73ba918f",
   "metadata": {},
   "outputs": [],
   "source": [
    "with open('../data/chords/CHORD_DICT.pickle', 'rb') as f: \n",
    "    CHORD_DICT = pickle.load(f)"
   ]
  },
  {
   "cell_type": "code",
   "execution_count": 7,
   "id": "97c25b36",
   "metadata": {},
   "outputs": [],
   "source": [
    "EMB_TO_CHORD = {v: k for k, v in CHORD_TO_EMB.items()}"
   ]
  },
  {
   "cell_type": "code",
   "execution_count": 8,
   "id": "4393c41f",
   "metadata": {},
   "outputs": [],
   "source": [
    "def get_embedding_chord(chord):\n",
    "    triad = triad_dict[chord]\n",
    "    triad = triad[0] * 10000 + triad[1] * 100 + triad[2]\n",
    "    idx = CHORD_DICT.index(triad)\n",
    "    emb = CHORD_TO_EMB[idx]\n",
    "    return emb"
   ]
  },
  {
   "cell_type": "code",
   "execution_count": 15,
   "id": "d8fd5efa",
   "metadata": {},
   "outputs": [],
   "source": [
    "def select_notes(p):\n",
    "    num = np.random.randint(1, 4)\n",
    "    possible = p.detach().cpu().numpy().reshape(-1)\n",
    "    possible = np.asarray(possible > 0.2).nonzero()[0]\n",
    "    print(possible)\n",
    "    return np.random.choice(len(possible), replace=False, "
   ]
  },
  {
   "cell_type": "code",
   "execution_count": 10,
   "id": "74e168d9",
   "metadata": {},
   "outputs": [],
   "source": [
    "def generate_melody_compass(chord, chord_next, prev=None, ts=8):\n",
    "    notes = []\n",
    "    if prev == None:\n",
    "        prev = torch.zeros(38)\n",
    "        prev[-1] = chord_next\n",
    "        prev[-2] = chord\n",
    "        prev = torch.reshape(prev, (1, 1, -1))\n",
    "    \n",
    "    for _ in range(ts):\n",
    "        prev = prev.to(device)\n",
    "        p = mlstm(prev)\n",
    "        notes.append(select_notes(p))\n",
    "        \n",
    "        last = torch.zeros_like(prev[:,-1,:])\n",
    "        last = torch.reshape(last, (1, 1, -1))\n",
    "        last[:,:,notes[-1]] = 1\n",
    "        last[:, :, -2] = chord\n",
    "        last[:, :, -1] = chord_next\n",
    "        print(last)\n",
    "        prev = torch.cat((prev, last), dim=1)\n",
    "        if prev.size(1) == 4:\n",
    "            prev = prev[:, 1:, :]\n",
    "            \n",
    "    return notes, prev"
   ]
  },
  {
   "cell_type": "code",
   "execution_count": 11,
   "id": "e7601524",
   "metadata": {},
   "outputs": [],
   "source": [
    "def generate_melody_for_chords(chords):\n",
    "    notes = []\n",
    "    prev = None\n",
    "    chords += [chords[0]]\n",
    "    for i in range(len(chords)-1):\n",
    "        notes_i, prev = generate_melody_compass(chords[i], chords[i + 1], prev)\n",
    "        notes += notes_i\n",
    "    return notes"
   ]
  },
  {
   "cell_type": "code",
   "execution_count": 18,
   "id": "04f2d72c",
   "metadata": {},
   "outputs": [],
   "source": [
    "chord_progression = ['C', 'G', 'Am', 'F']\n",
    "chord_progression_ids = [get_embedding_chord(chord) for chord in chord_progression]"
   ]
  },
  {
   "cell_type": "code",
   "execution_count": 19,
   "id": "def420d0",
   "metadata": {},
   "outputs": [
    {
     "data": {
      "text/plain": [
       "[0, 1, 3, 2]"
      ]
     },
     "execution_count": 19,
     "metadata": {},
     "output_type": "execute_result"
    }
   ],
   "source": [
    "chord_progression_ids"
   ]
  },
  {
   "cell_type": "code",
   "execution_count": 20,
   "id": "5921c821",
   "metadata": {},
   "outputs": [
    {
     "name": "stdout",
     "output_type": "stream",
     "text": [
      "[19 21 24]\n",
      "tensor([[[0., 0., 0., 0., 0., 0., 0., 0., 0., 0., 0., 0., 0., 0., 0., 0., 0.,\n",
      "          0., 0., 1., 0., 1., 0., 0., 1., 0., 0., 0., 0., 0., 0., 0., 0., 0.,\n",
      "          0., 0., 0., 1.]]], device='cuda:0')\n",
      "[19 21 24 28]\n",
      "tensor([[[0., 0., 0., 0., 0., 0., 0., 0., 0., 0., 0., 0., 0., 0., 0., 0., 0.,\n",
      "          0., 0., 1., 0., 1., 0., 0., 1., 0., 0., 0., 1., 0., 0., 0., 0., 0.,\n",
      "          0., 0., 0., 1.]]], device='cuda:0')\n",
      "[19 21 24 28]\n",
      "tensor([[[0., 0., 0., 0., 0., 0., 0., 0., 0., 0., 0., 0., 0., 0., 0., 0., 0.,\n",
      "          0., 0., 1., 0., 1., 0., 0., 1., 0., 0., 0., 1., 0., 0., 0., 0., 0.,\n",
      "          0., 0., 0., 1.]]], device='cuda:0')\n",
      "[19 21 24 28]\n",
      "tensor([[[0., 0., 0., 0., 0., 0., 0., 0., 0., 0., 0., 0., 0., 0., 0., 0., 0.,\n",
      "          0., 0., 1., 0., 1., 0., 0., 1., 0., 0., 0., 1., 0., 0., 0., 0., 0.,\n",
      "          0., 0., 0., 1.]]], device='cuda:0')\n",
      "[19 21 24 28]\n",
      "tensor([[[0., 0., 0., 0., 0., 0., 0., 0., 0., 0., 0., 0., 0., 0., 0., 0., 0.,\n",
      "          0., 0., 1., 0., 1., 0., 0., 1., 0., 0., 0., 1., 0., 0., 0., 0., 0.,\n",
      "          0., 0., 0., 1.]]], device='cuda:0')\n",
      "[19 21 24 28]\n",
      "tensor([[[0., 0., 0., 0., 0., 0., 0., 0., 0., 0., 0., 0., 0., 0., 0., 0., 0.,\n",
      "          0., 0., 1., 0., 1., 0., 0., 1., 0., 0., 0., 1., 0., 0., 0., 0., 0.,\n",
      "          0., 0., 0., 1.]]], device='cuda:0')\n",
      "[19 21 24 28]\n",
      "tensor([[[0., 0., 0., 0., 0., 0., 0., 0., 0., 0., 0., 0., 0., 0., 0., 0., 0.,\n",
      "          0., 0., 1., 0., 1., 0., 0., 1., 0., 0., 0., 1., 0., 0., 0., 0., 0.,\n",
      "          0., 0., 0., 1.]]], device='cuda:0')\n",
      "[19 21 24 28]\n",
      "tensor([[[0., 0., 0., 0., 0., 0., 0., 0., 0., 0., 0., 0., 0., 0., 0., 0., 0.,\n",
      "          0., 0., 1., 0., 1., 0., 0., 1., 0., 0., 0., 1., 0., 0., 0., 0., 0.,\n",
      "          0., 0., 0., 1.]]], device='cuda:0')\n",
      "[19 21 24 28]\n",
      "tensor([[[0., 0., 0., 0., 0., 0., 0., 0., 0., 0., 0., 0., 0., 0., 0., 0., 0.,\n",
      "          0., 0., 1., 0., 1., 0., 0., 1., 0., 0., 0., 1., 0., 0., 0., 0., 0.,\n",
      "          0., 0., 1., 3.]]], device='cuda:0')\n",
      "[19 21 24 28]\n",
      "tensor([[[0., 0., 0., 0., 0., 0., 0., 0., 0., 0., 0., 0., 0., 0., 0., 0., 0.,\n",
      "          0., 0., 1., 0., 1., 0., 0., 1., 0., 0., 0., 1., 0., 0., 0., 0., 0.,\n",
      "          0., 0., 1., 3.]]], device='cuda:0')\n",
      "[19 21 24 28]\n",
      "tensor([[[0., 0., 0., 0., 0., 0., 0., 0., 0., 0., 0., 0., 0., 0., 0., 0., 0.,\n",
      "          0., 0., 1., 0., 1., 0., 0., 1., 0., 0., 0., 1., 0., 0., 0., 0., 0.,\n",
      "          0., 0., 1., 3.]]], device='cuda:0')\n",
      "[16 19 21 24 28]\n",
      "tensor([[[0., 0., 0., 0., 0., 0., 0., 0., 0., 0., 0., 0., 0., 0., 0., 0., 1.,\n",
      "          0., 0., 1., 0., 1., 0., 0., 1., 0., 0., 0., 1., 0., 0., 0., 0., 0.,\n",
      "          0., 0., 1., 3.]]], device='cuda:0')\n",
      "[16 19 21 24 28]\n",
      "tensor([[[0., 0., 0., 0., 0., 0., 0., 0., 0., 0., 0., 0., 0., 0., 0., 0., 1.,\n",
      "          0., 0., 1., 0., 1., 0., 0., 1., 0., 0., 0., 1., 0., 0., 0., 0., 0.,\n",
      "          0., 0., 1., 3.]]], device='cuda:0')\n",
      "[16 19 21 24 28]\n",
      "tensor([[[0., 0., 0., 0., 0., 0., 0., 0., 0., 0., 0., 0., 0., 0., 0., 0., 1.,\n",
      "          0., 0., 1., 0., 1., 0., 0., 1., 0., 0., 0., 1., 0., 0., 0., 0., 0.,\n",
      "          0., 0., 1., 3.]]], device='cuda:0')\n",
      "[16 19 21 24 28]\n",
      "tensor([[[0., 0., 0., 0., 0., 0., 0., 0., 0., 0., 0., 0., 0., 0., 0., 0., 1.,\n",
      "          0., 0., 1., 0., 1., 0., 0., 1., 0., 0., 0., 1., 0., 0., 0., 0., 0.,\n",
      "          0., 0., 1., 3.]]], device='cuda:0')\n",
      "[16 19 21 24 28]\n",
      "tensor([[[0., 0., 0., 0., 0., 0., 0., 0., 0., 0., 0., 0., 0., 0., 0., 0., 1.,\n",
      "          0., 0., 1., 0., 1., 0., 0., 1., 0., 0., 0., 1., 0., 0., 0., 0., 0.,\n",
      "          0., 0., 1., 3.]]], device='cuda:0')\n",
      "[16 19 21 24 28]\n",
      "tensor([[[0., 0., 0., 0., 0., 0., 0., 0., 0., 0., 0., 0., 0., 0., 0., 0., 1.,\n",
      "          0., 0., 1., 0., 1., 0., 0., 1., 0., 0., 0., 1., 0., 0., 0., 0., 0.,\n",
      "          0., 0., 3., 2.]]], device='cuda:0')\n",
      "[12 16 19 21 24 28]\n",
      "tensor([[[0., 0., 0., 0., 0., 0., 0., 0., 0., 0., 0., 0., 1., 0., 0., 0., 1.,\n",
      "          0., 0., 1., 0., 1., 0., 0., 1., 0., 0., 0., 1., 0., 0., 0., 0., 0.,\n",
      "          0., 0., 3., 2.]]], device='cuda:0')\n",
      "[12 16 19 21 24 28]\n",
      "tensor([[[0., 0., 0., 0., 0., 0., 0., 0., 0., 0., 0., 0., 1., 0., 0., 0., 1.,\n",
      "          0., 0., 1., 0., 1., 0., 0., 1., 0., 0., 0., 1., 0., 0., 0., 0., 0.,\n",
      "          0., 0., 3., 2.]]], device='cuda:0')\n",
      "[12 16 19 21 24 28]\n",
      "tensor([[[0., 0., 0., 0., 0., 0., 0., 0., 0., 0., 0., 0., 1., 0., 0., 0., 1.,\n",
      "          0., 0., 1., 0., 1., 0., 0., 1., 0., 0., 0., 1., 0., 0., 0., 0., 0.,\n",
      "          0., 0., 3., 2.]]], device='cuda:0')\n",
      "[12 16 19 21 24 28]\n",
      "tensor([[[0., 0., 0., 0., 0., 0., 0., 0., 0., 0., 0., 0., 1., 0., 0., 0., 1.,\n",
      "          0., 0., 1., 0., 1., 0., 0., 1., 0., 0., 0., 1., 0., 0., 0., 0., 0.,\n",
      "          0., 0., 3., 2.]]], device='cuda:0')\n",
      "[12 16 19 21 24 28]\n",
      "tensor([[[0., 0., 0., 0., 0., 0., 0., 0., 0., 0., 0., 0., 1., 0., 0., 0., 1.,\n",
      "          0., 0., 1., 0., 1., 0., 0., 1., 0., 0., 0., 1., 0., 0., 0., 0., 0.,\n",
      "          0., 0., 3., 2.]]], device='cuda:0')\n",
      "[12 16 19 21 24 28]\n",
      "tensor([[[0., 0., 0., 0., 0., 0., 0., 0., 0., 0., 0., 0., 1., 0., 0., 0., 1.,\n",
      "          0., 0., 1., 0., 1., 0., 0., 1., 0., 0., 0., 1., 0., 0., 0., 0., 0.,\n",
      "          0., 0., 3., 2.]]], device='cuda:0')\n",
      "[12 16 19 21 24 28]\n",
      "tensor([[[0., 0., 0., 0., 0., 0., 0., 0., 0., 0., 0., 0., 1., 0., 0., 0., 1.,\n",
      "          0., 0., 1., 0., 1., 0., 0., 1., 0., 0., 0., 1., 0., 0., 0., 0., 0.,\n",
      "          0., 0., 3., 2.]]], device='cuda:0')\n",
      "[12 16 19 21 24 28]\n",
      "tensor([[[0., 0., 0., 0., 0., 0., 0., 0., 0., 0., 0., 0., 1., 0., 0., 0., 1.,\n",
      "          0., 0., 1., 0., 1., 0., 0., 1., 0., 0., 0., 1., 0., 0., 0., 0., 0.,\n",
      "          0., 0., 2., 0.]]], device='cuda:0')\n",
      "[12 16 19 21 24 28]\n",
      "tensor([[[0., 0., 0., 0., 0., 0., 0., 0., 0., 0., 0., 0., 1., 0., 0., 0., 1.,\n",
      "          0., 0., 1., 0., 1., 0., 0., 1., 0., 0., 0., 1., 0., 0., 0., 0., 0.,\n",
      "          0., 0., 2., 0.]]], device='cuda:0')\n",
      "[12 16 19 21 24 28]\n",
      "tensor([[[0., 0., 0., 0., 0., 0., 0., 0., 0., 0., 0., 0., 1., 0., 0., 0., 1.,\n",
      "          0., 0., 1., 0., 1., 0., 0., 1., 0., 0., 0., 1., 0., 0., 0., 0., 0.,\n",
      "          0., 0., 2., 0.]]], device='cuda:0')\n",
      "[12 16 19 21 24 28]\n",
      "tensor([[[0., 0., 0., 0., 0., 0., 0., 0., 0., 0., 0., 0., 1., 0., 0., 0., 1.,\n",
      "          0., 0., 1., 0., 1., 0., 0., 1., 0., 0., 0., 1., 0., 0., 0., 0., 0.,\n",
      "          0., 0., 2., 0.]]], device='cuda:0')\n",
      "[12 16 19 21 24 28]\n",
      "tensor([[[0., 0., 0., 0., 0., 0., 0., 0., 0., 0., 0., 0., 1., 0., 0., 0., 1.,\n",
      "          0., 0., 1., 0., 1., 0., 0., 1., 0., 0., 0., 1., 0., 0., 0., 0., 0.,\n",
      "          0., 0., 2., 0.]]], device='cuda:0')\n",
      "[12 16 19 21 24 28]\n",
      "tensor([[[0., 0., 0., 0., 0., 0., 0., 0., 0., 0., 0., 0., 1., 0., 0., 0., 1.,\n",
      "          0., 0., 1., 0., 1., 0., 0., 1., 0., 0., 0., 1., 0., 0., 0., 0., 0.,\n",
      "          0., 0., 2., 0.]]], device='cuda:0')\n",
      "[12 16 19 21 24 28]\n",
      "tensor([[[0., 0., 0., 0., 0., 0., 0., 0., 0., 0., 0., 0., 1., 0., 0., 0., 1.,\n",
      "          0., 0., 1., 0., 1., 0., 0., 1., 0., 0., 0., 1., 0., 0., 0., 0., 0.,\n",
      "          0., 0., 2., 0.]]], device='cuda:0')\n",
      "[12 16 19 21 24 28]\n",
      "tensor([[[0., 0., 0., 0., 0., 0., 0., 0., 0., 0., 0., 0., 1., 0., 0., 0., 1.,\n",
      "          0., 0., 1., 0., 1., 0., 0., 1., 0., 0., 0., 1., 0., 0., 0., 0., 0.,\n",
      "          0., 0., 2., 0.]]], device='cuda:0')\n"
     ]
    }
   ],
   "source": [
    "notes = generate_melody_for_chords(chord_progression_ids)"
   ]
  },
  {
   "cell_type": "code",
   "execution_count": 89,
   "id": "69db562d",
   "metadata": {},
   "outputs": [],
   "source": [
    "def write_melody_to_piano_roll(notes, piano_roll):\n",
    "    for i, note in enumerate(notes):\n",
    "        piano_roll[note + 36, i] = 100\n",
    "    \n",
    "    return piano_roll"
   ]
  },
  {
   "cell_type": "code",
   "execution_count": 90,
   "id": "a881c807",
   "metadata": {},
   "outputs": [],
   "source": [
    "piano_roll_notes = np.zeros((128, 32))"
   ]
  },
  {
   "cell_type": "code",
   "execution_count": 91,
   "id": "2dc84f6b",
   "metadata": {},
   "outputs": [],
   "source": [
    "def write_piano_roll_to_midi(piano_roll, midi, pid):\n",
    "    instrument = pretty_midi.Instrument(program=pid)\n",
    "    \n",
    "    # add notes to the instrument object\n",
    "    for note_idx, time_slice in enumerate(piano_roll.T):\n",
    "        note_numbers = np.nonzero(time_slice)[0]\n",
    "        for note_number in note_numbers:\n",
    "            note_start = note_idx / 4.0\n",
    "            note_end = (note_idx + 1) / 4.0\n",
    "            note_velocity = int(time_slice[note_number])\n",
    "            note = pretty_midi.Note(\n",
    "                velocity=note_velocity,\n",
    "                pitch=note_number,\n",
    "                start=note_start,\n",
    "                end=note_end\n",
    "            )\n",
    "            instrument.notes.append(note)\n",
    "\n",
    "    # add the instrument object to the MIDI object\n",
    "    midi.instruments.append(instrument)\n",
    "    \n",
    "    return midi"
   ]
  },
  {
   "cell_type": "code",
   "execution_count": 92,
   "id": "9690ea59",
   "metadata": {},
   "outputs": [],
   "source": [
    "paino_roll_notes = write_melody_to_piano_roll(notes, piano_roll_notes)"
   ]
  },
  {
   "cell_type": "code",
   "execution_count": 93,
   "id": "2d7a7593",
   "metadata": {},
   "outputs": [],
   "source": [
    "def save_piano_roll_to_midi(piano_roll_notes, filename):\n",
    "    # create a PrettyMIDI object\n",
    "    midi = pretty_midi.PrettyMIDI()\n",
    "    #midi = write_piano_roll_to_midi(piano_roll_chords, midi, 0)\n",
    "    midi = write_piano_roll_to_midi(piano_roll_notes, midi, 0)\n",
    "    \n",
    "    # write the MIDI object to a file\n",
    "    midi.write(filename)"
   ]
  },
  {
   "cell_type": "code",
   "execution_count": 94,
   "id": "106a5596",
   "metadata": {},
   "outputs": [],
   "source": [
    "save_piano_roll_to_midi(piano_roll_notes, 'muse2_poly_t2000_75.mid')"
   ]
  }
 ],
 "metadata": {
  "kernelspec": {
   "display_name": "Python 3 (ipykernel)",
   "language": "python",
   "name": "python3"
  },
  "language_info": {
   "codemirror_mode": {
    "name": "ipython",
    "version": 3
   },
   "file_extension": ".py",
   "mimetype": "text/x-python",
   "name": "python",
   "nbconvert_exporter": "python",
   "pygments_lexer": "ipython3",
   "version": "3.9.16"
  }
 },
 "nbformat": 4,
 "nbformat_minor": 5
}
